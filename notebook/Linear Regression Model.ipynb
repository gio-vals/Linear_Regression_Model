{
 "cells": [
  {
   "cell_type": "code",
   "execution_count": null,
   "id": "9bf717c4",
   "metadata": {},
   "outputs": [],
   "source": [
    "## Linear Regression Project ##\n",
    "\n",
    "# The project is about an Ecommerce company specializing in clothing sales. They offer in-store style consultations \n",
    "# and also operate online through a mobile app and website.\n",
    "\n",
    "# The task is to assist the company in determining whether to prioritize improving their mobile app or website. \n",
    "# The data are fictional customer data, with no real credit card information or emails.\n",
    "\n",
    "# The dataset contains customer info, suchas Email, Address, and their color Avatar. It also has numerical value columns:\n",
    "# - Avg. Session Length: Average session of in-store style advice sessions.\n",
    "# - Time on App: Average time spent on App in minutes\n",
    "# - Time on Website: Average time spent on Website in minutes\n",
    "# - Length of Membership: How many years the customer has been a member.\n",
    "# - Yearly Amount Spent: The amount of money each customer spent in a year.\n"
   ]
  },
  {
   "cell_type": "code",
   "execution_count": null,
   "id": "4b03b80d",
   "metadata": {},
   "outputs": [],
   "source": [
    "# importing necessary libraries for data analysis\n",
    "\n",
    "import pandas as pd\n",
    "import numpy as np"
   ]
  },
  {
   "cell_type": "code",
   "execution_count": null,
   "id": "7187715e",
   "metadata": {},
   "outputs": [],
   "source": [
    "# importing necessary libraries for data visualization\n",
    "\n",
    "import matplotlib.pyplot as plt\n",
    "import seaborn as sns\n"
   ]
  },
  {
   "cell_type": "code",
   "execution_count": null,
   "id": "2befea2b",
   "metadata": {},
   "outputs": [],
   "source": [
    "# reading the csv file using pandas\n",
    "\n",
    "df = pd.read_csv('../data/Ecommerce Customers')"
   ]
  },
  {
   "cell_type": "code",
   "execution_count": null,
   "id": "50ba638a",
   "metadata": {},
   "outputs": [],
   "source": [
    "# checking the head of the dataframe\n",
    "\n",
    "df.head()"
   ]
  },
  {
   "cell_type": "code",
   "execution_count": null,
   "id": "0cfe4a56",
   "metadata": {},
   "outputs": [],
   "source": [
    "# checking the .info() --- the dataset contains no null values\n",
    "\n",
    "df.info()"
   ]
  },
  {
   "cell_type": "code",
   "execution_count": null,
   "id": "93d344e8",
   "metadata": {},
   "outputs": [],
   "source": [
    "# checking the .describe() for some descriptive statistics\n",
    "\n",
    "df.describe()"
   ]
  },
  {
   "cell_type": "code",
   "execution_count": null,
   "id": "de7ad853",
   "metadata": {},
   "outputs": [],
   "source": [
    "# EDA (Explanatory Data Analysis)\n",
    "\n",
    "# only using the columns with numeric data"
   ]
  },
  {
   "cell_type": "code",
   "execution_count": null,
   "id": "e69ec4ea",
   "metadata": {},
   "outputs": [],
   "source": [
    "sns.jointplot(x='Time on Website', y='Yearly Amount Spent', data=df);\n",
    "\n",
    "# doesn't show strong correlation between 'Time on Website' and 'Yearly Amount Spent'"
   ]
  },
  {
   "cell_type": "code",
   "execution_count": null,
   "id": "ac765ba7",
   "metadata": {},
   "outputs": [],
   "source": [
    "sns.jointplot(x='Time on App', y='Yearly Amount Spent', data=df);\n",
    "\n",
    "# the correlation looks better between 'Time on App' and 'Yearly Amount Spent'"
   ]
  },
  {
   "cell_type": "code",
   "execution_count": null,
   "id": "d52be3a0",
   "metadata": {},
   "outputs": [],
   "source": [
    "sns.jointplot(x='Time on App', y='Length of Membership', data=df, kind='hex');"
   ]
  },
  {
   "cell_type": "code",
   "execution_count": null,
   "id": "069c95db",
   "metadata": {},
   "outputs": [],
   "source": [
    "# exploring the types of relationships across the entire data set.\n",
    "\n",
    "sns.pairplot(df);\n",
    "\n",
    "# based on this plot 'Length of Membership' looks to be the most correlated feature with 'Yearly Amount Spent'"
   ]
  },
  {
   "cell_type": "code",
   "execution_count": null,
   "id": "6942fe50",
   "metadata": {},
   "outputs": [],
   "source": [
    "# creating a linear model of 'Yearly Amount Spent' vs. 'Length of Membership'\n",
    "\n",
    "sns.lmplot(x='Length of Membership', y='Yearly Amount Spent', data=df);"
   ]
  },
  {
   "cell_type": "code",
   "execution_count": null,
   "id": "02ad87cd",
   "metadata": {},
   "outputs": [],
   "source": [
    "# Training and Testing Data\n",
    "\n",
    "df.columns"
   ]
  },
  {
   "cell_type": "code",
   "execution_count": null,
   "id": "caccb1ca",
   "metadata": {},
   "outputs": [],
   "source": [
    "# setting variable X equal to the numerical features of the customers and \n",
    "# a variable y equal to the \"Yearly Amount Spent\" column\n",
    "\n",
    "X = df[['Avg. Session Length', 'Time on App', 'Time on Website', 'Length of Membership']]\n",
    "\n",
    "y = df['Yearly Amount Spent']"
   ]
  },
  {
   "cell_type": "code",
   "execution_count": null,
   "id": "ce62b905",
   "metadata": {},
   "outputs": [],
   "source": [
    "# scikit-learn library\n",
    "\n",
    "from sklearn.model_selection import train_test_split"
   ]
  },
  {
   "cell_type": "code",
   "execution_count": null,
   "id": "95ddbe63",
   "metadata": {},
   "outputs": [],
   "source": [
    "X_train, X_test, y_train, y_test = train_test_split(X, y, test_size=0.3)"
   ]
  },
  {
   "cell_type": "code",
   "execution_count": null,
   "id": "978b6cf3",
   "metadata": {},
   "outputs": [],
   "source": [
    "# training the model\n",
    "\n",
    "from sklearn.linear_model import LinearRegression"
   ]
  },
  {
   "cell_type": "code",
   "execution_count": null,
   "id": "1c6d3085",
   "metadata": {},
   "outputs": [],
   "source": [
    "# creating an instance of a LinearRegression()\n",
    "\n",
    "lm = LinearRegression()"
   ]
  },
  {
   "cell_type": "code",
   "execution_count": null,
   "id": "c8047e2a",
   "metadata": {},
   "outputs": [],
   "source": [
    "# training/fitting lm on the training data\n",
    "\n",
    "lm.fit(X_train,y_train)"
   ]
  },
  {
   "cell_type": "code",
   "execution_count": null,
   "id": "0c857101",
   "metadata": {},
   "outputs": [],
   "source": [
    "# printing the coefficients of the model\n",
    "\n",
    "lm.coef_"
   ]
  },
  {
   "cell_type": "code",
   "execution_count": null,
   "id": "94223c4c",
   "metadata": {},
   "outputs": [],
   "source": [
    "# predicting test data\n",
    "\n",
    "predictions = lm.predict(X_test)"
   ]
  },
  {
   "cell_type": "code",
   "execution_count": null,
   "id": "aff84b93",
   "metadata": {},
   "outputs": [],
   "source": [
    "# creating a scatterplot of the real test values versus the predicted values\n",
    "\n",
    "plt.scatter(y_test,predictions);"
   ]
  },
  {
   "cell_type": "code",
   "execution_count": null,
   "id": "631e3234",
   "metadata": {},
   "outputs": [],
   "source": [
    "# Model Evaluation\n",
    "\n",
    "# evaluating the model performance by calculating the residual sum of squares and the explained variance score (R^2)"
   ]
  },
  {
   "cell_type": "code",
   "execution_count": null,
   "id": "d16b802f",
   "metadata": {},
   "outputs": [],
   "source": [
    "from sklearn import metrics"
   ]
  },
  {
   "cell_type": "code",
   "execution_count": null,
   "id": "474fa31b",
   "metadata": {},
   "outputs": [],
   "source": [
    "print('MAE:', metrics.mean_absolute_error(y_test, predictions))\n",
    "print('MSE:', metrics.mean_squared_error(y_test, predictions))\n",
    "print('RMSE:', np.sqrt(metrics.mean_squared_error(y_test, predictions)))"
   ]
  },
  {
   "cell_type": "code",
   "execution_count": null,
   "id": "6092ceea",
   "metadata": {},
   "outputs": [],
   "source": [
    "metrics.explained_variance_score(y_test, predictions)\n",
    "\n",
    "# about 99% of the variance explained by the model (very good fit)"
   ]
  },
  {
   "cell_type": "code",
   "execution_count": null,
   "id": "8421e264",
   "metadata": {},
   "outputs": [],
   "source": [
    "# Residuals\n",
    "\n",
    "# exploring the residuals"
   ]
  },
  {
   "cell_type": "code",
   "execution_count": null,
   "id": "a733c8f1",
   "metadata": {},
   "outputs": [],
   "source": [
    "# plotting a histogram of the residuals and make sure it looks normally distributed\n",
    "\n",
    "sns.distplot((y_test-predictions),bins=50);"
   ]
  },
  {
   "cell_type": "code",
   "execution_count": null,
   "id": "dcbe9f5a",
   "metadata": {},
   "outputs": [],
   "source": [
    "# Conclusion\n",
    "coeff_df = pd.DataFrame(lm.coef_,X.columns,columns=['Coefficient'])\n",
    "coeff_df"
   ]
  },
  {
   "cell_type": "code",
   "execution_count": null,
   "id": "5b910e3f",
   "metadata": {},
   "outputs": [],
   "source": [
    "# this means that when every other feature remains fixed, 1 unit increase on the current feature is associated\n",
    "# with a corresponding increase of the amount of the coefficient column."
   ]
  },
  {
   "cell_type": "code",
   "execution_count": null,
   "id": "f871194d",
   "metadata": {},
   "outputs": [],
   "source": [
    "# This data show that the App works much better than the Website. \n",
    "# Wether the company should focus more on the App or on the website depends on the company strategy "
   ]
  }
 ],
 "metadata": {
  "kernelspec": {
   "display_name": "Python 3 (ipykernel)",
   "language": "python",
   "name": "python3"
  },
  "language_info": {
   "codemirror_mode": {
    "name": "ipython",
    "version": 3
   },
   "file_extension": ".py",
   "mimetype": "text/x-python",
   "name": "python",
   "nbconvert_exporter": "python",
   "pygments_lexer": "ipython3",
   "version": "3.11.4"
  }
 },
 "nbformat": 4,
 "nbformat_minor": 5
}
